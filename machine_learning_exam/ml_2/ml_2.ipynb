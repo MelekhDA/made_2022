{
 "cells": [
  {
   "cell_type": "code",
   "execution_count": 2,
   "id": "e579738e",
   "metadata": {},
   "outputs": [],
   "source": [
    "import os\n",
    "import random\n",
    "import numpy as np\n",
    "\n",
    "import cv2\n",
    "import pandas as pd\n",
    "import matplotlib.pyplot as plt\n",
    "from tqdm import tqdm\n",
    "from sklearn.metrics import mean_squared_error, mean_absolute_error\n",
    "\n",
    "from change_color_image import bgr_to_white_black_color\n",
    "from generate_dataset import (\n",
    "    add_square,\n",
    "    add_rectangle,\n",
    "    add_circle,\n",
    "    add_parallelogram\n",
    ")\n",
    "from plot_image_with_label import (\n",
    "    generate_collect_name,\n",
    "    image_with_label\n",
    ")\n",
    "from train_val_test_split import generate_train_val_test\n",
    "from batch import batch_split\n",
    "from load_yolov_model import load_model\n",
    "\n",
    "%matplotlib inline"
   ]
  },
  {
   "cell_type": "code",
   "execution_count": 3,
   "id": "ac3afb61",
   "metadata": {},
   "outputs": [],
   "source": [
    "PATH_TRAIN = 'data/train.csv'\n",
    "PATH_TEST = 'data/test.csv'\n",
    "IMG_PATH = 'img_path'\n",
    "TARGET = 'label'\n",
    "TYPE = 'type'\n",
    "RANDOM_STATE = 42"
   ]
  },
  {
   "cell_type": "code",
   "execution_count": 4,
   "id": "7aae9470",
   "metadata": {},
   "outputs": [],
   "source": [
    "df_train = pd.read_csv(PATH_TRAIN, sep=',')\n",
    "df_test = pd.read_csv(PATH_TEST, sep=',')"
   ]
  },
  {
   "cell_type": "code",
   "execution_count": 5,
   "id": "c3cc08b6",
   "metadata": {},
   "outputs": [
    {
     "data": {
      "text/plain": [
       "((3000, 3), (6000, 1))"
      ]
     },
     "execution_count": 5,
     "metadata": {},
     "output_type": "execute_result"
    }
   ],
   "source": [
    "df_train.shape, df_test.shape"
   ]
  },
  {
   "cell_type": "code",
   "execution_count": 6,
   "id": "56304aa6",
   "metadata": {},
   "outputs": [
    {
     "data": {
      "text/html": [
       "<div>\n",
       "<style scoped>\n",
       "    .dataframe tbody tr th:only-of-type {\n",
       "        vertical-align: middle;\n",
       "    }\n",
       "\n",
       "    .dataframe tbody tr th {\n",
       "        vertical-align: top;\n",
       "    }\n",
       "\n",
       "    .dataframe thead th {\n",
       "        text-align: right;\n",
       "    }\n",
       "</style>\n",
       "<table border=\"1\" class=\"dataframe\">\n",
       "  <thead>\n",
       "    <tr style=\"text-align: right;\">\n",
       "      <th></th>\n",
       "      <th>img_path</th>\n",
       "      <th>label</th>\n",
       "      <th>type</th>\n",
       "    </tr>\n",
       "  </thead>\n",
       "  <tbody>\n",
       "    <tr>\n",
       "      <th>0</th>\n",
       "      <td>train_data/1.png</td>\n",
       "      <td>3</td>\n",
       "      <td>1</td>\n",
       "    </tr>\n",
       "    <tr>\n",
       "      <th>1</th>\n",
       "      <td>train_data/2.png</td>\n",
       "      <td>7</td>\n",
       "      <td>3</td>\n",
       "    </tr>\n",
       "    <tr>\n",
       "      <th>2</th>\n",
       "      <td>train_data/3.png</td>\n",
       "      <td>9</td>\n",
       "      <td>2</td>\n",
       "    </tr>\n",
       "    <tr>\n",
       "      <th>3</th>\n",
       "      <td>train_data/4.png</td>\n",
       "      <td>9</td>\n",
       "      <td>1</td>\n",
       "    </tr>\n",
       "    <tr>\n",
       "      <th>4</th>\n",
       "      <td>train_data/5.png</td>\n",
       "      <td>10</td>\n",
       "      <td>1</td>\n",
       "    </tr>\n",
       "  </tbody>\n",
       "</table>\n",
       "</div>"
      ],
      "text/plain": [
       "           img_path  label  type\n",
       "0  train_data/1.png      3     1\n",
       "1  train_data/2.png      7     3\n",
       "2  train_data/3.png      9     2\n",
       "3  train_data/4.png      9     1\n",
       "4  train_data/5.png     10     1"
      ]
     },
     "execution_count": 6,
     "metadata": {},
     "output_type": "execute_result"
    }
   ],
   "source": [
    "df_train.head()"
   ]
  },
  {
   "cell_type": "code",
   "execution_count": 7,
   "id": "e7d04b44",
   "metadata": {},
   "outputs": [
    {
     "data": {
      "text/html": [
       "<div>\n",
       "<style scoped>\n",
       "    .dataframe tbody tr th:only-of-type {\n",
       "        vertical-align: middle;\n",
       "    }\n",
       "\n",
       "    .dataframe tbody tr th {\n",
       "        vertical-align: top;\n",
       "    }\n",
       "\n",
       "    .dataframe thead th {\n",
       "        text-align: right;\n",
       "    }\n",
       "</style>\n",
       "<table border=\"1\" class=\"dataframe\">\n",
       "  <thead>\n",
       "    <tr style=\"text-align: right;\">\n",
       "      <th></th>\n",
       "      <th>img_path</th>\n",
       "    </tr>\n",
       "  </thead>\n",
       "  <tbody>\n",
       "    <tr>\n",
       "      <th>0</th>\n",
       "      <td>test_data/1.png</td>\n",
       "    </tr>\n",
       "    <tr>\n",
       "      <th>1</th>\n",
       "      <td>test_data/2.png</td>\n",
       "    </tr>\n",
       "    <tr>\n",
       "      <th>2</th>\n",
       "      <td>test_data/3.png</td>\n",
       "    </tr>\n",
       "    <tr>\n",
       "      <th>3</th>\n",
       "      <td>test_data/4.png</td>\n",
       "    </tr>\n",
       "    <tr>\n",
       "      <th>4</th>\n",
       "      <td>test_data/5.png</td>\n",
       "    </tr>\n",
       "  </tbody>\n",
       "</table>\n",
       "</div>"
      ],
      "text/plain": [
       "          img_path\n",
       "0  test_data/1.png\n",
       "1  test_data/2.png\n",
       "2  test_data/3.png\n",
       "3  test_data/4.png\n",
       "4  test_data/5.png"
      ]
     },
     "execution_count": 7,
     "metadata": {},
     "output_type": "execute_result"
    }
   ],
   "source": [
    "df_test.head()"
   ]
  },
  {
   "cell_type": "code",
   "execution_count": 8,
   "id": "84a64e33",
   "metadata": {},
   "outputs": [
    {
     "name": "stderr",
     "output_type": "stream",
     "text": [
      "100%|███████████████████████████████████████████████████████████████████████████████████████████████████████████████████████| 3000/3000 [00:02<00:00, 1273.31it/s]\n"
     ]
    },
    {
     "name": "stdout",
     "output_type": "stream",
     "text": [
      "train: {(320, 320, 3)}\n"
     ]
    },
    {
     "name": "stderr",
     "output_type": "stream",
     "text": [
      "100%|███████████████████████████████████████████████████████████████████████████████████████████████████████████████████████| 6000/6000 [00:04<00:00, 1256.44it/s]"
     ]
    },
    {
     "name": "stdout",
     "output_type": "stream",
     "text": [
      "test: {(320, 320, 3)}\n"
     ]
    },
    {
     "name": "stderr",
     "output_type": "stream",
     "text": [
      "\n"
     ]
    }
   ],
   "source": [
    "for df, name in zip([df_train, df_test], ['train', 'test']):\n",
    "    set_shape = set()\n",
    "    for img_path in tqdm(df[IMG_PATH]):\n",
    "        im = cv2.imread(f'data/{img_path}')\n",
    "        set_shape.add(im.shape)\n",
    "\n",
    "    print(f'{name}: {set_shape}')"
   ]
  },
  {
   "cell_type": "code",
   "execution_count": 9,
   "id": "c14f2a7d",
   "metadata": {},
   "outputs": [
    {
     "name": "stdout",
     "output_type": "stream",
     "text": [
      "Number of square: 1\n"
     ]
    },
    {
     "data": {
      "text/plain": [
       "<matplotlib.image.AxesImage at 0x23fd2ae9f88>"
      ]
     },
     "execution_count": 9,
     "metadata": {},
     "output_type": "execute_result"
    },
    {
     "data": {
      "image/png": "[encoded data removed]",
      "text/plain": [
       "<Figure size 640x480 with 1 Axes>"
      ]
     },
     "metadata": {},
     "output_type": "display_data"
    }
   ],
   "source": [
    "# It can be assumed that this is a synthetic data\n",
    "\n",
    "example_index = 2452\n",
    "\n",
    "print(f'Number of square: {df_train[TARGET][example_index]}')\n",
    "\n",
    "image = cv2.imread(f'data/train_data/{example_index + 1}.png')\n",
    "\n",
    "plt.imshow(image)"
   ]
  },
  {
   "cell_type": "code",
   "execution_count": 10,
   "id": "3d6e287d",
   "metadata": {},
   "outputs": [
    {
     "data": {
      "text/plain": [
       "<matplotlib.image.AxesImage at 0x23fd2cbd8c8>"
      ]
     },
     "execution_count": 10,
     "metadata": {},
     "output_type": "execute_result"
    },
    {
     "data": {
      "image/png": "[encoded data removed]",
      "text/plain": [
       "<Figure size 640x480 with 1 Axes>"
      ]
     },
     "metadata": {},
     "output_type": "display_data"
    }
   ],
   "source": [
    "image_wb = bgr_to_white_black_color(image)\n",
    "\n",
    "plt.imshow(image_wb)"
   ]
  },
  {
   "cell_type": "markdown",
   "id": "dc0530ae",
   "metadata": {},
   "source": [
    "### classification -> detection (COCO format)"
   ]
  },
  {
   "cell_type": "code",
   "execution_count": 11,
   "id": "8d73147e",
   "metadata": {},
   "outputs": [],
   "source": [
    "RANDOM_STATE = 42\n",
    "HEIGHT, WIDTH, CHANNEL = 320, 320, 3\n",
    "COLOR_WHITE = 255\n",
    "COLOR_BGR = (0, 0, 0)\n",
    "CLASS_SQUARE = 0\n",
    "\n",
    "N = 20_000\n",
    "PATH_DATASET = r'synthetic_coco_data/dataset'\n",
    "\n",
    "random.seed(RANDOM_STATE)"
   ]
  },
  {
   "cell_type": "code",
   "execution_count": 12,
   "id": "bdf88b93",
   "metadata": {},
   "outputs": [
    {
     "name": "stderr",
     "output_type": "stream",
     "text": [
      "100%|████████████████████████████████████████████████████████████████████████████████████████████████████████████████████████| 1000/1000 [00:01<00:00, 717.29it/s]\n"
     ]
    }
   ],
   "source": [
    "for i in tqdm(range(N)):\n",
    "    image = np.full((HEIGHT, WIDTH, CHANNEL), COLOR_WHITE, dtype=\"uint8\")\n",
    "\n",
    "    n_square = random.randint(0, 8)\n",
    "    n_rectangle = random.randint(0, min(6, n_square))\n",
    "    n_circle = random.randint(0, min(4, n_rectangle))\n",
    "    n_parallelogram = random.randint(0, min(3, n_circle))\n",
    "\n",
    "    image, coco_label = add_square(image, n_square, HEIGHT, WIDTH, COLOR_BGR)\n",
    "    image = add_rectangle(image, n_rectangle, HEIGHT, WIDTH, COLOR_BGR)\n",
    "    image = add_circle(image, n_circle, HEIGHT, WIDTH, COLOR_BGR)\n",
    "    image = add_parallelogram(image, n_parallelogram, HEIGHT, WIDTH, COLOR_BGR)\n",
    "\n",
    "    cv2.imwrite(os.path.join(PATH_DATASET, f'images/{i}.png'), image)\n",
    "\n",
    "    with open(os.path.join(PATH_DATASET, f'labels/{i}.txt'), 'w') as fio:\n",
    "        coco_label = [f'{CLASS_SQUARE} ' + ' '.join(map(str, label)) for label in coco_label]\n",
    "        coco_label = '\\n'.join(coco_label)\n",
    "        fio.write(coco_label)"
   ]
  },
  {
   "cell_type": "code",
   "execution_count": 13,
   "id": "0d206b14",
   "metadata": {},
   "outputs": [
    {
     "data": {
      "image/png": "[encoded data removed]",
      "text/plain": [
       "<Figure size 640x480 with 1 Axes>"
      ]
     },
     "metadata": {},
     "output_type": "display_data"
    }
   ],
   "source": [
    "collect_name = generate_collect_name(PATH_DATASET, count=1)\n",
    "\n",
    "for name in collect_name:\n",
    "    path_image = fr'{PATH_DATASET}/images/{name}.png'\n",
    "    path_label = fr'{PATH_DATASET}/labels/{name}.txt'\n",
    "\n",
    "    if not os.path.isfile(path_label):\n",
    "        print(f'Not found: {path_label}')\n",
    "        continue\n",
    "\n",
    "    filename, image = image_with_label(path_picture=path_image, path_label=path_label)\n",
    "\n",
    "    plt.title(filename)\n",
    "    plt.imshow(image)"
   ]
  },
  {
   "cell_type": "code",
   "execution_count": 14,
   "id": "f42bb8fc",
   "metadata": {},
   "outputs": [],
   "source": [
    "PATH_FROM = r'synthetic_coco_data/dataset'\n",
    "PATH_TO = r'synthetic_coco_data/train_val_test'"
   ]
  },
  {
   "cell_type": "code",
   "execution_count": 15,
   "id": "a552f334",
   "metadata": {},
   "outputs": [
    {
     "name": "stdout",
     "output_type": "stream",
     "text": [
      "Directory created: synthetic_coco_data/train_val_test/train/images\n",
      "Directory created: synthetic_coco_data/train_val_test/train/labels\n",
      "Directory created: synthetic_coco_data/train_val_test/val/images\n",
      "Directory created: synthetic_coco_data/train_val_test/val/labels\n",
      "Directory created: synthetic_coco_data/train_val_test/test/images\n",
      "Directory created: synthetic_coco_data/train_val_test/test/labels\n",
      "Train done\n",
      "Val done\n",
      "Test done\n"
     ]
    }
   ],
   "source": [
    "generate_train_val_test(PATH_FROM, PATH_TO, RANDOM_STATE)"
   ]
  },
  {
   "cell_type": "markdown",
   "id": "cab246f2",
   "metadata": {},
   "source": [
    "### fit yolov model and save model\n",
    "\n",
    "For example:\n",
    "\n",
    "    git clone https://github.com/ultralytics/yolov5\n",
    "\n",
    "    add train/val/test data, yaml-file for training\n",
    "\n",
    "    make venv, install requirements\n",
    "\n",
    "    and do:\n",
    "    CUDA_VISIBLE_DEVICES=0 python train.py --data data/train_val_test.yaml --name square --epochs 50 --weights yolov5l.pt --hyp data/hyps/hyp.scratch-med.yaml --imgsz 320 --batch 64\n",
    "\n",
    "    P.s. you can see example train_val_test.yaml here: machine_learning_exam/ml_2/model/square_v3/train_val_test.yaml"
   ]
  },
  {
   "cell_type": "code",
   "execution_count": 16,
   "id": "61da014d",
   "metadata": {},
   "outputs": [],
   "source": [
    "PATH_YOLOV_MODEL = 'model/square_v3/best.pt'\n",
    "DEFAULT_DIR_YOLOV_REPO = r'ultralytics_yolov5_master_min'"
   ]
  },
  {
   "cell_type": "code",
   "execution_count": 17,
   "id": "90c1f5c4",
   "metadata": {},
   "outputs": [
    {
     "name": "stderr",
     "output_type": "stream",
     "text": [
      "YOLOv5  2022-6-1 torch 1.12.1+cpu CPU\n",
      "\n",
      "Fusing layers... \n",
      "Model summary: 367 layers, 46108278 parameters, 0 gradients\n",
      "Adding AutoShape... \n"
     ]
    },
    {
     "name": "stdout",
     "output_type": "stream",
     "text": [
      "Before:\n",
      "0.25\n",
      "0.45\n",
      "\n",
      "After:\n",
      "0.25\n",
      "0.45\n"
     ]
    }
   ],
   "source": [
    "model = load_model(DEFAULT_DIR_YOLOV_REPO, PATH_YOLOV_MODEL)"
   ]
  },
  {
   "cell_type": "code",
   "execution_count": 20,
   "id": "466ed9ac",
   "metadata": {},
   "outputs": [
    {
     "data": {
      "text/plain": [
       "<matplotlib.image.AxesImage at 0x23fd9d1c108>"
      ]
     },
     "execution_count": 20,
     "metadata": {},
     "output_type": "execute_result"
    },
    {
     "data": {
      "image/png": "[encoded data removed]",
      "text/plain": [
       "<Figure size 640x480 with 1 Axes>"
      ]
     },
     "metadata": {},
     "output_type": "display_data"
    }
   ],
   "source": [
    "example_train_index = 4\n",
    "\n",
    "example_image = cv2.imread(f'data/train_data/{example_train_index}.png')\n",
    "example_image = bgr_to_white_black_color(example_image)\n",
    "\n",
    "result = model(example_image)\n",
    "\n",
    "plt.imshow(example_image)"
   ]
  },
  {
   "cell_type": "code",
   "execution_count": 21,
   "id": "98d9887a",
   "metadata": {},
   "outputs": [
    {
     "name": "stdout",
     "output_type": "stream",
     "text": [
      "Found 9 from 9 images\n"
     ]
    },
    {
     "data": {
      "text/plain": [
       "<matplotlib.image.AxesImage at 0x23fd72a8a88>"
      ]
     },
     "execution_count": 21,
     "metadata": {},
     "output_type": "execute_result"
    },
    {
     "data": {
      "image/png": "[encoded data removed]",
      "text/plain": [
       "<Figure size 640x480 with 1 Axes>"
      ]
     },
     "metadata": {},
     "output_type": "display_data"
    }
   ],
   "source": [
    "df_detect = result.pandas().xyxy[0]\n",
    "\n",
    "thickness = 1\n",
    "color = (255, 0, 0)\n",
    "for idx in df_detect.index:\n",
    "    x0, y0 = df_detect['xmin'][idx], df_detect['ymin'][idx]\n",
    "    x1, y1 = df_detect['xmax'][idx], df_detect['ymax'][idx]\n",
    "    \n",
    "    x0, y0 = round(x0), round(y0)\n",
    "    x1, y1 = round(x1), round(y1)\n",
    "    \n",
    "    example_image = cv2.rectangle(example_image, (x0, y0), (x1, y1), color, thickness=thickness)\n",
    "    \n",
    "print(f'Found {df_detect.shape[0]} from {df_train[\"label\"][example_train_index - 1]} images')\n",
    "\n",
    "plt.title(f'{example_train_index}.png')\n",
    "plt.imshow(example_image)"
   ]
  },
  {
   "cell_type": "code",
   "execution_count": 22,
   "id": "ae0f61c7",
   "metadata": {},
   "outputs": [
    {
     "name": "stderr",
     "output_type": "stream",
     "text": [
      "YOLOv5  2022-6-1 torch 1.12.1+cpu CPU\n",
      "\n",
      "Fusing layers... \n",
      "Model summary: 367 layers, 46108278 parameters, 0 gradients\n",
      "Adding AutoShape... \n"
     ]
    },
    {
     "name": "stdout",
     "output_type": "stream",
     "text": [
      "Before:\n",
      "0.25\n",
      "0.45\n",
      "\n",
      "After:\n",
      "0.25\n",
      "0.45\n"
     ]
    },
    {
     "name": "stderr",
     "output_type": "stream",
     "text": [
      "100%|███████████████████████████████████████████████████████████████████████████████████████████████████████████████████████████| 300/300 [39:35<00:00,  7.92s/it]"
     ]
    },
    {
     "name": "stdout",
     "output_type": "stream",
     "text": [
      "rmse: 0.5882176467941097\n",
      "mae: 0.2906666666666667\n"
     ]
    },
    {
     "name": "stderr",
     "output_type": "stream",
     "text": [
      "\n"
     ]
    }
   ],
   "source": [
    "# better with GPU\n",
    "\n",
    "model = load_model(DEFAULT_DIR_YOLOV_REPO, PATH_YOLOV_MODEL)\n",
    "\n",
    "images = df_train[IMG_PATH].tolist()\n",
    "collect_predict = []\n",
    "\n",
    "for batch in tqdm(batch_split(images, 10)):\n",
    "    batch_img = [cv2.imread(f'data/{path}') for path in batch]\n",
    "    batch_img = [bgr_to_white_black_color(img) for img in batch_img]\n",
    "\n",
    "    predict = model(batch_img)\n",
    "    predict_pandas = predict.pandas()\n",
    "    predict_n_square = [df.shape[0] for df in predict_pandas.xyxy]\n",
    "\n",
    "    collect_predict += predict_n_square\n",
    "\n",
    "print('rmse:', mean_squared_error(df_train['label'], collect_predict, squared=False))\n",
    "print('mae:', mean_absolute_error(df_train['label'], collect_predict))"
   ]
  },
  {
   "cell_type": "code",
   "execution_count": 23,
   "id": "d83c4f16",
   "metadata": {},
   "outputs": [
    {
     "name": "stderr",
     "output_type": "stream",
     "text": [
      "YOLOv5  2022-6-1 torch 1.12.1+cpu CPU\n",
      "\n",
      "Fusing layers... \n",
      "Model summary: 367 layers, 46108278 parameters, 0 gradients\n",
      "Adding AutoShape... \n"
     ]
    },
    {
     "name": "stdout",
     "output_type": "stream",
     "text": [
      "Before:\n",
      "0.25\n",
      "0.45\n",
      "\n",
      "After:\n",
      "0.25\n",
      "0.7\n"
     ]
    },
    {
     "name": "stderr",
     "output_type": "stream",
     "text": [
      "100%|███████████████████████████████████████████████████████████████████████████████████████████████████████████████████████████| 300/300 [39:20<00:00,  7.87s/it]"
     ]
    },
    {
     "name": "stdout",
     "output_type": "stream",
     "text": [
      "rmse: 0.5029910535983717\n",
      "mae: 0.217\n"
     ]
    },
    {
     "name": "stderr",
     "output_type": "stream",
     "text": [
      "\n"
     ]
    }
   ],
   "source": [
    "model = load_model(DEFAULT_DIR_YOLOV_REPO, PATH_YOLOV_MODEL, iou=0.7)\n",
    "\n",
    "images = df_train[IMG_PATH].tolist()\n",
    "collect_predict = []\n",
    "\n",
    "for batch in tqdm(batch_split(images, 10)):\n",
    "    batch_img = [cv2.imread(f'data/{path}') for path in batch]\n",
    "    batch_img = [bgr_to_white_black_color(img) for img in batch_img]\n",
    "\n",
    "    predict = model(batch_img)\n",
    "    predict_pandas = predict.pandas()\n",
    "    predict_n_square = [df.shape[0] for df in predict_pandas.xyxy]\n",
    "\n",
    "    collect_predict += predict_n_square\n",
    "\n",
    "print('rmse:', mean_squared_error(df_train['label'], collect_predict, squared=False))\n",
    "print('mae:', mean_absolute_error(df_train['label'], collect_predict))"
   ]
  },
  {
   "cell_type": "markdown",
   "id": "20585a70",
   "metadata": {},
   "source": [
    "### Data leakage (for fun)"
   ]
  },
  {
   "cell_type": "code",
   "execution_count": 24,
   "id": "689965c9",
   "metadata": {},
   "outputs": [
    {
     "name": "stderr",
     "output_type": "stream",
     "text": [
      "100%|██████████████████████████████████████████████████████████████████████████████████████████████████████████████████████| 3000/3000 [00:00<00:00, 37025.23it/s]\n",
      "100%|██████████████████████████████████████████████████████████████████████████████████████████████████████████████████████| 6000/6000 [00:00<00:00, 37267.35it/s]\n"
     ]
    }
   ],
   "source": [
    "for df in [df_train, df_test]:\n",
    "    collect_kbyte = []\n",
    "    for img_path in tqdm(df[IMG_PATH]):\n",
    "        file_stats = os.stat(f'data/{img_path}')\n",
    "        collect_kbyte.append(file_stats.st_size / 1024)\n",
    "\n",
    "    df['kbyte'] = collect_kbyte"
   ]
  },
  {
   "cell_type": "code",
   "execution_count": 25,
   "id": "dbbe90ba",
   "metadata": {
    "scrolled": true
   },
   "outputs": [
    {
     "data": {
      "image/png": "[encoded data removed]",
      "text/plain": [
       "<Figure size 640x480 with 1 Axes>"
      ]
     },
     "metadata": {},
     "output_type": "display_data"
    },
    {
     "data": {
      "image/png": "[encoded data removed]",
      "text/plain": [
       "<Figure size 640x480 with 1 Axes>"
      ]
     },
     "metadata": {},
     "output_type": "display_data"
    }
   ],
   "source": [
    "for type_i in range(1, 4):\n",
    "    label_i = df_train[df_train['type'] == type_i]['kbyte']\n",
    "    plt.hist(label_i, bins=30, alpha=0.35, label=f'train with type {type_i}')\n",
    "plt.title('Size of images (train)')\n",
    "plt.legend()\n",
    "plt.show()\n",
    "\n",
    "plt.hist(df_test['kbyte'], bins=30, alpha=0.35, label='test')\n",
    "plt.title('Size of images (test)')\n",
    "plt.legend()\n",
    "plt.show()"
   ]
  },
  {
   "cell_type": "markdown",
   "id": "5836c305",
   "metadata": {},
   "source": [
    "Sort by last modified time gives an excellent split by image type: 1, 2, 3 \n",
    "\n",
    "(see df_train[\"type\"])"
   ]
  }
 ],
 "metadata": {
  "kernelspec": {
   "display_name": "Python 3 (ipykernel)",
   "language": "python",
   "name": "python3"
  },
  "language_info": {
   "codemirror_mode": {
    "name": "ipython",
    "version": 3
   },
   "file_extension": ".py",
   "mimetype": "text/x-python",
   "name": "python",
   "nbconvert_exporter": "python",
   "pygments_lexer": "ipython3",
   "version": "3.7.4"
  }
 },
 "nbformat": 4,
 "nbformat_minor": 5
}
